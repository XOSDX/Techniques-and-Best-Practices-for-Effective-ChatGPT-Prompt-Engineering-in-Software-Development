{
 "cells": [
  {
   "cell_type": "markdown",
   "id": "87857393-6369-4b66-87c9-5f3253edf28e",
   "metadata": {},
   "source": [
    "# Summarizing\n",
    "To provide a summarization that highlights the key points about specific topics."
   ]
  },
  {
   "cell_type": "code",
   "execution_count": 1,
   "id": "8ac673e1",
   "metadata": {
    "height": 148
   },
   "outputs": [],
   "source": [
    "import openai\n",
    "import os\n",
    "\n",
    "from dotenv import load_dotenv, find_dotenv\n",
    "_ = load_dotenv(find_dotenv()) # read local .env file\n",
    "\n",
    "openai.api_key  = os.getenv('OPENAI_API_KEY')"
   ]
  },
  {
   "cell_type": "code",
   "execution_count": 3,
   "id": "66de8ca6",
   "metadata": {
    "height": 148
   },
   "outputs": [],
   "source": [
    "def generate_response(query, model_name=\"gpt-3.5-turbo\"):\n",
    "    reply = openai.ChatCompletion.create(\n",
    "        model=model_name,\n",
    "        messages=[{\"role\": \"user\", \"content\": query}],\n",
    "        temperature=0\n",
    "    )\n",
    "    return reply.choices[0].message['content']"
   ]
  },
  {
   "cell_type": "markdown",
   "id": "387b0686-bea6-41a2-b879-88721dc0ec10",
   "metadata": {},
   "source": [
    "**Let us summarize**"
   ]
  },
  {
   "cell_type": "code",
   "execution_count": 4,
   "id": "0ce2cf3c",
   "metadata": {
    "height": 199
   },
   "outputs": [],
   "source": [
    "ngo_review = \"\"\"\n",
    "I recently donated to this organization's community \n",
    "development project, and I’m impressed with their \n",
    "impact. The team is dedicated and the programs are \n",
    "well-structured, focusing on education and healthcare. \n",
    "The progress reports are clear and informative, though \n",
    "I wish there were more frequent updates. The donation \n",
    "process was smooth, and I appreciate the transparency \n",
    "and efficiency of their operations.\n",
    "\"\"\""
   ]
  },
  {
   "cell_type": "markdown",
   "id": "5d95eba0-7744-491a-a30a-8ee687303b7a",
   "metadata": {},
   "source": [
    "**Keeping the summary brief with a maximum word, sentence, or character limit.**"
   ]
  },
  {
   "cell_type": "code",
   "execution_count": 7,
   "id": "0c3023c6",
   "metadata": {
    "height": 233
   },
   "outputs": [
    {
     "name": "stdout",
     "output_type": "stream",
     "text": [
      "\n",
      "Summary: \n",
      "\"Experience the power of making a difference with this organization's community development project. Their dedicated team and well-structured programs focus on education and healthcare, making a real impact. While progress reports are clear and informative, some may wish for more frequent updates. The donation process is smooth, and transparency and efficiency shine through in their operations. Join in and see the positive change you can help create!\"\n",
      "\n",
      "Review: \n",
      "\"I recently donated to this organization's community development project, and I’m impressed with their impact. The team is dedicated and the programs are well-structured, focusing on education and healthcare. The progress reports are clear and informative, though I wish there were more frequent updates. The donation process was smooth, and I appreciate the transparency and efficiency of their operations.\"\n"
     ]
    }
   ],
   "source": [
    "prompt = f\"\"\"\n",
    "Please produce a eye-catching summary of a product \n",
    "Give review from any ecommerce site. \n",
    "\n",
    "Summarize the review below, delimited by double tags,\n",
    "in at most 300 words. \n",
    "\n",
    "Review: ```{ngo_review}```\n",
    "\"\"\"\n",
    "\n",
    "response = generate_response(prompt)\n",
    "print(response)"
   ]
  },
  {
   "cell_type": "markdown",
   "id": "01204385-1d27-420c-80ee-bd4b524550f6",
   "metadata": {},
   "source": [
    "## Summarizing with the focus on funding costs"
   ]
  },
  {
   "cell_type": "code",
   "execution_count": 12,
   "id": "6d865432",
   "metadata": {
    "height": 182
   },
   "outputs": [
    {
     "name": "stdout",
     "output_type": "stream",
     "text": [
      "Summary: The funding review for the NGO highlighted the organization's successful implementation of projects and impact on the community. The review also noted the need for increased transparency in financial reporting and better communication with donors. Overall, the NGO was commended for its dedication to its mission but advised to make improvements in certain areas to secure future funding.\n"
     ]
    }
   ],
   "source": [
    "feedback_prompt = \"\"\"\n",
    "Your task is to create a brief summary of a funding\n",
    "review from past scenarios.\n",
    "\n",
    "Review: ```{ngo_review}```\n",
    "\"\"\"\n",
    "\n",
    "feedback_summary = generate_response(feedback_prompt)\n",
    "print(feedback_summary)"
   ]
  },
  {
   "cell_type": "markdown",
   "id": "21a561c4-d9a0-48a8-86c4-725746fb08df",
   "metadata": {},
   "source": [
    "#### Comment\n",
    "- Summaries include topics that are not related to the topic of focus."
   ]
  },
  {
   "cell_type": "markdown",
   "id": "9aff99cd-dc09-467c-bd09-897ffe06a232",
   "metadata": {},
   "source": [
    "## Try \"extracting\" instead of \"summarizing\""
   ]
  },
  {
   "cell_type": "code",
   "execution_count": 15,
   "id": "190943b0",
   "metadata": {
    "height": 250
   },
   "outputs": [
    {
     "name": "stdout",
     "output_type": "stream",
     "text": [
      "Approximate costs not mentioned. Strength of volunteers: dedicated team focusing on education and healthcare. Progress reports clear and informative. Donation process smooth.\n"
     ]
    }
   ],
   "source": [
    "prompt = f\"\"\"\n",
    "Your task is to extract relevant information from \\ \n",
    "fundings received. \n",
    "\n",
    "From the review below, delimited by triple quotes \\\n",
    "extract the information relevant to approximate costs \n",
    "and strength of the people volunteering.Limit to 30 words. \n",
    "\n",
    "Review: ```{ngo_review}```\n",
    "\"\"\"\n",
    "\n",
    "response = generate_response(prompt)\n",
    "print(response)"
   ]
  },
  {
   "cell_type": "markdown",
   "id": "f513da2e-f89c-4c91-8456-b79c630e70c9",
   "metadata": {},
   "source": [
    "## For summarizing multiple product reviews"
   ]
  },
  {
   "cell_type": "code",
   "execution_count": 16,
   "id": "027822c2",
   "metadata": {
    "height": 641
   },
   "outputs": [],
   "source": [
    "review_1 = ngo_review\n",
    "\n",
    "review_2 = \"\"\"\n",
    "Donated to this NGO's education program, and I'm \n",
    "pleased with how they use the funds. The program has \n",
    "improved access to quality education for underprivileged \n",
    "children. The project update came promptly and was \n",
    "well-detailed. There was a minor issue with the receipt \n",
    "not being sent, but their support team resolved it quickly. \n",
    "Overall, it feels like a worthwhile investment in the \n",
    "future of these children.\n",
    "\"\"\"\n",
    "\n",
    "review_3 = \"\"\"\n",
    "Supported this NGO's healthcare initiative, which provides \n",
    "medical supplies and services to remote areas. The impact \n",
    "is evident in the improved health outcomes reported. The \n",
    "organization's transparency is commendable, though I \n",
    "would like to see more detailed reports on how the funds \n",
    "are utilized. The donation process was seamless, and \n",
    "their dedication to improving healthcare access is clear.\n",
    "\"\"\"\n",
    "\n",
    "review_4 = \"\"\"\n",
    "Contributed to this NGO's disaster relief efforts and was \n",
    "impressed by their efficiency. The funds were used \n",
    "effectively to provide immediate aid and support to those \n",
    "affected. The organization communicated well, but the \n",
    "post-disaster reports were a bit delayed. Despite this, \n",
    "their rapid response and commitment to helping those in \n",
    "need were commendable. The donation process was easy and \n",
    "well-managed.\n",
    "\"\"\"\n",
    "\n",
    "reviews = [review_1, review_2, review_3, review_4]\n"
   ]
  },
  {
   "cell_type": "code",
   "execution_count": 17,
   "id": "b7c39cc8",
   "metadata": {
    "height": 267
   },
   "outputs": [
    {
     "name": "stdout",
     "output_type": "stream",
     "text": [
      "0 \n",
      "Summary: \n",
      "Impressed with impactful community development projects, well-structured programs, clear reports, smooth donation process. \n",
      "\n",
      "1 \n",
      "```\n",
      "NGO's education program effectively benefits underprivileged children, prompt updates, minor receipt issue resolved swiftly. Worthwhile investment.\n",
      "``` \n",
      "\n",
      "2 \n",
      "Summary: \n",
      "```\n",
      "Supportive of NGO's healthcare initiative, impactful outcomes seen, transparency commendable, detailed reports desired, seamless donation process. \n",
      "``` \n",
      "\n",
      "3 \n",
      "Summary: \n",
      "<<Efficient disaster relief NGO with delayed reports, but commendable rapid response and easy donation process.>> \n",
      "\n"
     ]
    }
   ],
   "source": [
    "for i in range(len(reviews)):\n",
    "    prompt = f\"\"\"\n",
    "    Your task is to generate a short summary of a product \\ \n",
    "    review from an ecommerce site. \n",
    "\n",
    "    Summarize the review below, delimited by \n",
    "    double tags in at most 20 words. \n",
    "\n",
    "    Review: ```{reviews[i]}```\n",
    "    \"\"\"\n",
    "\n",
    "    response = generate_response(prompt)\n",
    "    print(i, response, \"\\n\")\n"
   ]
  }
 ],
 "metadata": {
  "kernelspec": {
   "display_name": "Python 3 (ipykernel)",
   "language": "python",
   "name": "python3"
  },
  "language_info": {
   "codemirror_mode": {
    "name": "ipython",
    "version": 3
   },
   "file_extension": ".py",
   "mimetype": "text/x-python",
   "name": "python",
   "nbconvert_exporter": "python",
   "pygments_lexer": "ipython3",
   "version": "3.9.19"
  }
 },
 "nbformat": 4,
 "nbformat_minor": 5
}
