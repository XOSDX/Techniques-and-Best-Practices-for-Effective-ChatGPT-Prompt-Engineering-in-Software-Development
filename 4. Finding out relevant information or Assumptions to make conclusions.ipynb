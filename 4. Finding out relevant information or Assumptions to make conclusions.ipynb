{
 "cells": [
  {
   "cell_type": "markdown",
   "id": "3630c235-f891-4874-bd0a-5277d4d6aa82",
   "metadata": {},
   "source": [
    "# Finding out relevant information or Assumptions to make conclusions\n",
    "\n",
    "LLMs to make assumptions to obtain results which are satisfactory at worst case and excellent at best case.May go wrong at certain cases but LLMs if tuned will lead to decent results"
   ]
  },
  {
   "cell_type": "code",
   "execution_count": 1,
   "id": "39689e67",
   "metadata": {
    "height": 115
   },
   "outputs": [],
   "source": [
    "import openai\n",
    "import os\n",
    "from dotenv import load_dotenv,find_dotenv\n",
    "x=load_dotenv(find_dotenv())\n",
    "\n",
    "openai.api_key=os.getenv('OPENAI_API_KEY')"
   ]
  },
  {
   "cell_type": "code",
   "execution_count": 12,
   "id": "e82f5577",
   "metadata": {
    "height": 131
   },
   "outputs": [],
   "source": [
    "def get_response(query,model_name='gpt-3.5-turbo'):\n",
    "    reply=openai.ChatCompletion.create(\n",
    "    model=model_name,\n",
    "    messages=[{\"role\":\"user\",\"content\":query}],\n",
    "    temperature=0)\n",
    "    return reply.choices[0].message['content']"
   ]
  },
  {
   "cell_type": "code",
   "execution_count": 13,
   "id": "b0f3b49b",
   "metadata": {
    "height": 114
   },
   "outputs": [],
   "source": [
    "amazon_review = \"\"\"\n",
    "I recently purchased the Bose Noise-Cancelling Headphones and am absolutely thrilled with my purchase. The sound quality is exceptional, delivering clear highs and deep bass. The noise-cancelling feature works like a charm, blocking out the background noise during my commute and allowing me to focus on my music and podcasts.\n",
    "The headphones are comfortable to wear for extended periods, thanks to the soft ear cushions and adjustable headband. The battery life is impressive, lasting over 20 hours on a single charge, and they charge quickly too. The built-in microphone is also clear, making phone calls a breeze.\n",
    "One minor downside is that the carrying case could be more robust, but it's a small trade-off for the overall performance and value these headphones offer. They arrived promptly and were well-packaged. Highly recommended for anyone looking for high-quality, comfortable noise-cancelling headphones at a reasonable price.\n",
    "\"\"\""
   ]
  },
  {
   "cell_type": "markdown",
   "id": "30d6e4bd-3337-45a3-8c99-a734cdd06743",
   "metadata": {},
   "source": [
    "## Sentiment (positive/negative)"
   ]
  },
  {
   "cell_type": "code",
   "execution_count": 14,
   "id": "e3157601",
   "metadata": {
    "height": 148
   },
   "outputs": [
    {
     "name": "stdout",
     "output_type": "stream",
     "text": [
      "The sentiment of the product review is overwhelmingly positive. The reviewer is thrilled with their purchase of the Bose Noise-Cancelling Headphones, praising the sound quality, comfort, battery life, noise-cancelling feature, and overall value of the product. They only mention a minor downside regarding the carrying case, but it does not detract from their overall satisfaction with the headphones.\n"
     ]
    }
   ],
   "source": [
    "prompt = f\"\"\"\n",
    "What is the sentiment of the following product review, \n",
    "which is delimited with triple backticks?\n",
    "Review text: '''{amazon_review}'''\n",
    "\"\"\"\n",
    "response = get_response(prompt)\n",
    "print(response)"
   ]
  },
  {
   "cell_type": "code",
   "execution_count": 16,
   "id": "acf9ca16",
   "metadata": {
    "height": 165
   },
   "outputs": [
    {
     "name": "stdout",
     "output_type": "stream",
     "text": [
      "Positive\n"
     ]
    }
   ],
   "source": [
    "prompt = f\"\"\"\n",
    "Give your answer as a single word, either \"positive\" \\\n",
    "or \"negative\".\n",
    "\n",
    "Review text: '''{amazon_review}'''\n",
    "\"\"\"\n",
    "response = get_response(prompt)\n",
    "print(response)"
   ]
  },
  {
   "cell_type": "markdown",
   "id": "81d2a973-1fa4-4a35-ae35-a2e746c0e91b",
   "metadata": {},
   "source": [
    "## Identify types of emotions"
   ]
  },
  {
   "cell_type": "code",
   "execution_count": 17,
   "id": "8aa7934b",
   "metadata": {
    "height": 165
   },
   "outputs": [
    {
     "name": "stdout",
     "output_type": "stream",
     "text": [
      "Excitement, satisfaction, happiness, appreciation, contentment, gratitude, recommendation\n"
     ]
    }
   ],
   "source": [
    "prompt = f\"\"\"\n",
    "Identify a list of emotions that the writer of the \\\n",
    "following review is expressing.\n",
    "\n",
    "Review text: '''{amazon_review}'''\n",
    "\"\"\"\n",
    "response = get_response(prompt)\n",
    "print(response)"
   ]
  },
  {
   "cell_type": "code",
   "execution_count": 19,
   "id": "dba1a538",
   "metadata": {
    "height": 182
   },
   "outputs": [
    {
     "name": "stdout",
     "output_type": "stream",
     "text": [
      "No\n"
     ]
    }
   ],
   "source": [
    "prompt = f\"\"\"\n",
    "Is the writer of the following review expressing anger?\\\n",
    "The review is delimited with triple backticks. \\\n",
    "Give your answer as either yes or no.\n",
    "\n",
    "Review text: '''{amazon_review}'''\n",
    "\"\"\"\n",
    "response = get_response(prompt)\n",
    "print(response)"
   ]
  },
  {
   "cell_type": "markdown",
   "id": "936a771e-ca78-4e55-8088-2da6f3820ddc",
   "metadata": {},
   "source": [
    "## To highlight the product and company name from customer reviews by asking the LLM"
   ]
  },
  {
   "cell_type": "code",
   "execution_count": 29,
   "id": "a13bea1b",
   "metadata": {
    "height": 488
   },
   "outputs": [
    {
     "name": "stdout",
     "output_type": "stream",
     "text": [
      "\n",
      "Review Text: \n",
      "\n",
      "For Customers:\n",
      "1. What is the product you purchased? I purchased a portable Bluetooth speaker.\n",
      "2. How would you rate your overall experience with the product on a scale of 1 to 5? I would rate it a 4.\n",
      "3. What do you like most about the product? I like the sound quality and portability of the speaker.\n",
      "4. What do you think could be improved? The battery life could be longer.\n",
      "5. Did the product meet your expectations? Why or why not? Yes, it met my expectations in terms of sound quality and portability.\n",
      "6. How was your experience with our customer service? Customer service was great, very responsive and helpful.\n",
      "7. Would you recommend this product to others? Yes, I would recommend this product to others because of its sound quality and portability.\n",
      "\n",
      "For Company Representatives:\n",
      "1. What is the product you are reviewing? The product being reviewed is our portable Bluetooth speaker.\n",
      "2. How would you rate the product's performance and quality on a scale of 1 to 5? I would rate it a 4.\n",
      "3. What are the key features of this product that you believe are most beneficial to customers? The key features are its sound quality and portability.\n",
      "4. What feedback have you received from customers about this product? Customers have praised the sound quality but have mentioned that the battery life could be improved.\n",
      "5. What improvements or updates are being considered for this product? We are considering improving the battery life and adding more connectivity options.\n",
      "6. How does this product compare to similar products in the market? Our product stands out for its sound quality and portability compared to similar products in the market.\n",
      "7. What support and resources are available for customers who purchase this product? Customers have access to our customer service team for any questions or issues they may have with the product.\n"
     ]
    }
   ],
   "source": [
    "prompt = \"\"\"\n",
    "We are gathering feedback on our product to improve customer satisfaction and product quality. Please provide your review by answering the following questions:\n",
    "\n",
    "For Customers:\n",
    "1. What is the product you purchased?\n",
    "2. How would you rate your overall experience with the product on a scale of 1 to 5?\n",
    "3. What do you like most about the product?\n",
    "4. What do you think could be improved?\n",
    "5. Did the product meet your expectations? Why or why not?\n",
    "6. How was your experience with our customer service?\n",
    "7. Would you recommend this product to others? Why or why not?\n",
    "\n",
    "For Company Representatives:\n",
    "1. What is the product you are reviewing?\n",
    "2. How would you rate the product's performance and quality on a scale of 1 to 5?\n",
    "3. What are the key features of this product that you believe are most beneficial to customers?\n",
    "4. What feedback have you received from customers about this product?\n",
    "5. What improvements or updates are being considered for this product?\n",
    "6. How does this product compare to similar products in the market?\n",
    "7. What support and resources are available for customers who purchase this product?\n",
    "\n",
    "Review Text: '''{amazon_review}'''\n",
    "Thank you for your valuable feedback!\n",
    "\"\"\"\n",
    "\n",
    "response = get_response(prompt)\n",
    "print(response)"
   ]
  },
  {
   "cell_type": "markdown",
   "id": "a38880a5-088f-4609-9913-f8fa41fb7ba0",
   "metadata": {},
   "source": [
    "## Multi-tasking purpose "
   ]
  },
  {
   "cell_type": "code",
   "execution_count": 30,
   "id": "e7dda9e5",
   "metadata": {
    "height": 539
   },
   "outputs": [
    {
     "name": "stdout",
     "output_type": "stream",
     "text": [
      "1. **Summarize Review:**\n",
      "The review praises the XYZ Noise-Cancelling Headphones for exceptional sound quality, effective noise-cancelling feature, comfort, long battery life, and clear microphone. The only minor downside mentioned is the carrying case. Overall, the reviewer highly recommends these headphones for their performance and value.\n",
      "\n",
      "2. **Identify Pros and Cons:**\n",
      "Pros: Exceptional sound quality, effective noise-cancelling feature, comfort, long battery life, clear microphone.\n",
      "Cons: Carrying case could be more robust.\n",
      "\n",
      "3. **Sentiment Analysis:**\n",
      "Overall sentiment: Positive\n",
      "Explanation: The reviewer expresses high satisfaction with the product, highlighting its positive attributes and recommending it to others.\n",
      "\n",
      "4. **Generate Review Headline:**\n",
      "\"Immerse Yourself in Exceptional Sound Quality with XYZ Noise-Cancelling Headphones!\"\n",
      "\n",
      "5. **Product Improvement Suggestions:**\n",
      "1. Enhance the durability of the carrying case.\n",
      "2. Introduce more color options for personalization.\n",
      "\n",
      "6. **Customer Service Feedback:**\n",
      "The review does not mention customer service feedback explicitly, focusing solely on the product's features and performance.\n",
      "\n",
      "7. **Comparison to Competitors:**\n",
      "The XYZ Noise-Cancelling Headphones stand out for their exceptional sound quality, effective noise-cancelling feature, comfort, and long battery life. In comparison, a similar product from a competitor may offer similar features but at a higher price point, making the XYZ headphones a better value for money option.\n"
     ]
    }
   ],
   "source": [
    "prompt = \"\"\"\n",
    "I need assistance with various tasks related to analyzing Amazon product reviews. Please address each task in the order provided. Here are the tasks:\n",
    "\n",
    "1. **Summarize Review:**\n",
    "   - Summarize the following Amazon review in no more than 50 words.\n",
    "   - Review: \"I recently purchased the XYZ Noise-Cancelling Headphones and am absolutely thrilled with my purchase. The sound quality is exceptional, delivering clear highs and deep bass. The noise-cancelling feature works like a charm, blocking out the background noise during my commute and allowing me to focus on my music and podcasts. The headphones are comfortable to wear for extended periods, thanks to the soft ear cushions and adjustable headband. The battery life is impressive, lasting over 20 hours on a single charge, and they charge quickly too. The built-in microphone is also clear, making phone calls a breeze. One minor downside is that the carrying case could be more robust, but it's a small trade-off for the overall performance and value these headphones offer. They arrived promptly and were well-packaged. Highly recommended for anyone looking for high-quality, comfortable noise-cancelling headphones at a reasonable price.\"\n",
    "\n",
    "2. **Identify Pros and Cons:**\n",
    "   - List the pros and cons mentioned in the review.\n",
    "\n",
    "3. **Sentiment Analysis:**\n",
    "   - Determine the overall sentiment of the review (positive, negative, or neutral) and provide a brief explanation.\n",
    "\n",
    "4. **Generate Review Headline:**\n",
    "   - Create a catchy headline for the review.\n",
    "\n",
    "5. **Product Improvement Suggestions:**\n",
    "   - Based on the review, suggest two improvements for the product.\n",
    "\n",
    "6. **Customer Service Feedback:**\n",
    "   - Provide a brief summary of the customer's feedback on the service they received.\n",
    "\n",
    "7. **Comparison to Competitors:**\n",
    "   - Write a short comparison (about 100 words) of this product with a similar product from a competitor, focusing on key features and value for money.\n",
    "\n",
    "Please ensure each response is clear and concise, and separate the responses by the task number. Thank you!\n",
    "Review Text: {amazon_review}\n",
    "\"\"\"\n",
    "response=get_response(prompt)\n",
    "print(response)"
   ]
  }
 ],
 "metadata": {
  "kernelspec": {
   "display_name": "Python 3 (ipykernel)",
   "language": "python",
   "name": "python3"
  },
  "language_info": {
   "codemirror_mode": {
    "name": "ipython",
    "version": 3
   },
   "file_extension": ".py",
   "mimetype": "text/x-python",
   "name": "python",
   "nbconvert_exporter": "python",
   "pygments_lexer": "ipython3",
   "version": "3.9.19"
  }
 },
 "nbformat": 4,
 "nbformat_minor": 5
}
