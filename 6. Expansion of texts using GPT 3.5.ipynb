{
 "cells": [
  {
   "cell_type": "markdown",
   "id": "8de529e8-3891-4f47-8585-65b92b80bbf7",
   "metadata": {},
   "source": [
    "# Expanding\n",
    "\n",
    "Crafting personalized customer service emails for each customer, ensuring that each message is tailored specifically to address the feedback and review they provided, making every customer feel heard and valued."
   ]
  },
  {
   "cell_type": "code",
   "execution_count": 1,
   "id": "e23399a9",
   "metadata": {
    "height": 115
   },
   "outputs": [],
   "source": [
    "import openai\n",
    "import os\n",
    "\n",
    "from dotenv import load_dotenv, find_dotenv\n",
    "_ = load_dotenv(find_dotenv())\n",
    "openai.api_key  = os.getenv('OPENAI_API_KEY')"
   ]
  },
  {
   "cell_type": "code",
   "execution_count": null,
   "id": "4c943900-98db-40b3-b639-7822ee2c5fd8",
   "metadata": {
    "height": 131
   },
   "outputs": [],
   "source": [
    "def get_response(prompt,model_name='gpt-3.5-turbo'):\n",
    "    reply=openai.ChatCompletion.create(\n",
    "    model=model_name,\n",
    "    messages=[{\"role\":\"user\",\"content\":prompt}],\n",
    "    temperature=0)\n",
    "    return reply.choices[0].message['content']"
   ]
  },
  {
   "cell_type": "markdown",
   "id": "f8ceea77-990a-4c64-bb49-3ba65eb155d2",
   "metadata": {},
   "source": [
    "## Customize the automated reply to a customer email"
   ]
  },
  {
   "cell_type": "code",
   "execution_count": 5,
   "id": "c30c4239",
   "metadata": {
    "height": 641
   },
   "outputs": [],
   "source": [
    "# given the sentiment from the lesson on \"inferring\",\n",
    "# and the original customer message, customize the email\n",
    "sentiment = \"negative\"\n",
    "\n",
    "# review for Apple IPHONE 15 PRO MAX 1 TB\n",
    "review = f\"\"\"\n",
    "I recently purchased the Apple iPhone 15 Pro Max 1TB, and I am utterly disappointed. For a flagship device priced at a premium, it fails on multiple fronts. Here’s why I regret my purchase:\n",
    "\n",
    "Battery Life:\n",
    "The battery life is abysmal. Despite Apple’s claims of extended battery performance, I struggle to get through half a day with moderate use. Constantly having to charge the phone defeats the purpose of having a mobile device.\n",
    "\n",
    "Performance:\n",
    "For a phone touted as having one of the best processors on the market, the performance is shockingly underwhelming. Apps crash frequently, and the phone lags even with simple tasks like browsing the web or checking emails.\n",
    "\n",
    "Design:\n",
    "The design feels outdated and uninspired. The phone is bulky and uncomfortable to hold. The so-called “innovative” design changes are barely noticeable and add no real value to the user experience.\n",
    "\n",
    "Camera:\n",
    "The camera quality is vastly overrated. Photos are often grainy, especially in low-light conditions, and the AI enhancements tend to make images look artificial. For a phone marketed heavily on its camera capabilities, this is a huge letdown.\n",
    "\n",
    "Storage:\n",
    "While 1TB of storage sounds impressive, it’s rendered useless by the phone’s constant need to offload data due to software bugs. Additionally, the file management system is confusing and unintuitive, making it a hassle to organize files.\n",
    "\n",
    "User Interface:\n",
    "iOS has become increasingly cumbersome and less intuitive with each update. The user interface on the iPhone 15 Pro Max is no exception. It’s cluttered, confusing, and lacks the simplicity that once made Apple devices stand out.\n",
    "\n",
    "Build Quality:\n",
    "Despite the high price tag, the build quality feels cheap. The phone feels fragile, and I’ve already noticed minor scratches and dents with minimal use. It doesn’t inspire confidence in its durability.\n",
    "\n",
    "Connectivity:\n",
    "The connectivity issues are persistent. Wi-Fi drops frequently, and cellular reception is poor even in areas where my previous phones had no issues. This makes it unreliable for essential tasks like calls and internet browsing.\n",
    "\n",
    "Price:\n",
    "For the exorbitant price, the iPhone 15 Pro Max 1TB offers very little value. There are far better options available in the market at a fraction of the cost. Apple is clearly banking on brand loyalty rather than delivering a quality product.\n",
    "In conclusion, the iPhone 15 Pro Max 1TB is a colossal disappointment. It’s plagued with performance issues, poor design choices, and lacks the premium feel that should come with such a hefty price tag. I would not recommend this phone to anyone. Save your money and look elsewhere.\n",
    "\"\"\""
   ]
  },
  {
   "cell_type": "code",
   "execution_count": 6,
   "id": "d5403f73",
   "metadata": {
    "height": 318
   },
   "outputs": [
    {
     "name": "stdout",
     "output_type": "stream",
     "text": [
      "Dear valued customer,\n",
      "\n",
      "Thank you for taking the time to share your detailed feedback on your recent purchase of the Apple iPhone 15 Pro Max 1TB. We are truly sorry to hear about your disappointment with the device and the various issues you have encountered.\n",
      "\n",
      "We apologize for the inconvenience caused by the battery life, performance, design, camera quality, storage, user interface, build quality, connectivity, and overall value of the phone. Your feedback is valuable to us, and we take your concerns seriously.\n",
      "\n",
      "If you would like further assistance or have any additional feedback to share, please do not hesitate to reach out to our customer service team. We are here to help address any issues you may have encountered.\n",
      "\n",
      "Thank you again for your review, and we appreciate your honesty in sharing your experience with us.\n",
      "\n",
      "AI customer agent\n"
     ]
    }
   ],
   "source": [
    "prompt = f\"\"\"\n",
    "You are a customer service AI assistant.\n",
    "Your task is to send an email reply to a valued customer.\n",
    "Given the customer email delimited by ```, \\\n",
    "Generate a reply to thank the customer for their review.\n",
    "If the sentiment is positive or neutral, thank them for \\\n",
    "their review.\n",
    "If the sentiment is negative, apologize and suggest that \\\n",
    "they can reach out to customer service. \n",
    "Make sure to use specific details from the review.\n",
    "Write in a concise and professional tone.\n",
    "Sign the email as `AI customer agent`.\n",
    "Customer review: ```{review}```\n",
    "Review sentiment: {sentiment}\n",
    "\"\"\"\n",
    "response = get_response(prompt)\n",
    "print(response)"
   ]
  },
  {
   "cell_type": "markdown",
   "id": "55605ee0-118c-4c46-a917-4981a43fcad3",
   "metadata": {},
   "source": [
    "# MODEL TO REFER THE CUSTOMER MAIL"
   ]
  },
  {
   "cell_type": "code",
   "execution_count": 8,
   "id": "1d5ea7c8",
   "metadata": {
    "height": 301
   },
   "outputs": [
    {
     "name": "stdout",
     "output_type": "stream",
     "text": [
      "Dear valued customer,\n",
      "\n",
      "Thank you for taking the time to share your detailed feedback on your experience with the Apple iPhone 15 Pro Max 1TB. We sincerely apologize for the disappointment you have faced with the device. Your insights are crucial to us, and we take your concerns seriously.\n",
      "\n",
      "We recommend reaching out to our customer service team via phone to address the issues you have encountered with the phone's performance, design, camera quality, storage, user interface, build quality, connectivity, and overall value. Our team is dedicated to providing assistance and finding a suitable solution for your concerns.\n",
      "\n",
      "Once again, we appreciate your feedback and apologize for any inconvenience caused. Your satisfaction is our priority, and we are committed to improving our products and services based on your valuable input.\n",
      "\n",
      "Thank you for choosing Apple.\n",
      "\n",
      "Best regards,\n",
      "[Your Name]\n",
      "Apple Customer Service Team\n"
     ]
    }
   ],
   "source": [
    "prompt = f\"\"\"\n",
    "Demographically, you are an AI created for delivering customer services.\n",
    "This message requires that you respond to a much appreciated customer.\n",
    "Besides, since the customer email is delimited by ```,\n",
    "Develop a response to the customer to appreciate them for creating an informative review.\n",
    "In case the sentiment is positive or neutral, you should thank them for\n",
    "their review.\n",
    "In this case the sentiment is negative; you might consider saying sorry and recommending that\n",
    "This way, using the phone, they can contact the customer service.\n",
    "You should therefore be specific when defining your ideas from the review.\n",
    "Phrases should be inclined with professional and brief language..\n",
    "Customer review: ```{review}```\n",
    "Review sentiment: {sentiment}\n",
    "\"\"\"\n",
    "response = get_response(prompt)\n",
    "print(response)"
   ]
  }
 ],
 "metadata": {
  "kernelspec": {
   "display_name": "Python 3 (ipykernel)",
   "language": "python",
   "name": "python3"
  },
  "language_info": {
   "codemirror_mode": {
    "name": "ipython",
    "version": 3
   },
   "file_extension": ".py",
   "mimetype": "text/x-python",
   "name": "python",
   "nbconvert_exporter": "python",
   "pygments_lexer": "ipython3",
   "version": "3.9.19"
  }
 },
 "nbformat": 4,
 "nbformat_minor": 5
}
