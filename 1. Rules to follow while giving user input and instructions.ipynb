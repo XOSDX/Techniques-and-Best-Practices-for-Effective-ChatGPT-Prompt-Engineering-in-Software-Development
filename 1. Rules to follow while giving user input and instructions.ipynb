{
 "cells": [
  {
   "cell_type": "markdown",
   "id": "7ebe2e9d-685d-4ea3-ab7c-9589caaabff5",
   "metadata": {},
   "source": [
    "-> Prompting Techniques:\n",
    "\n",
    "In this lesson, two prompting principles and their related tactics will be introduced to you and then you will be required to come up with the prompts for large language models."
   ]
  },
  {
   "cell_type": "markdown",
   "id": "00bab499-9a50-4bd0-a622-1c914c6ccc29",
   "metadata": {},
   "source": [
    "-> Setup\n",
    "Load the API key and relevant Python libraries."
   ]
  },
  {
   "cell_type": "code",
   "execution_count": 6,
   "id": "6c382975",
   "metadata": {
    "height": 148,
    "tags": []
   },
   "outputs": [],
   "source": [
    "import openai\n",
    "import os\n",
    "\n",
    "from dotenv import load_dotenv, find_dotenv\n",
    "_ = load_dotenv(find_dotenv())\n",
    "\n",
    "openai.api_key  = os.getenv('OPENAI_API_KEY')"
   ]
  },
  {
   "cell_type": "markdown",
   "id": "a3acefa8-f8f1-4ef8-932e-9bcefa142666",
   "metadata": {},
   "source": [
    "-> Defining the required LLM version:"
   ]
  },
  {
   "cell_type": "code",
   "execution_count": 7,
   "id": "a7dff174",
   "metadata": {
    "height": 148,
    "tags": []
   },
   "outputs": [],
   "source": [
    "def generate_response(query, model_name=\"gpt-3.5-turbo\"):\n",
    "    reply = openai.ChatCompletion.create(\n",
    "        model=model_name,\n",
    "        messages=[{\"role\": \"user\", \"content\": query}],\n",
    "        temperature=0\n",
    "    )\n",
    "    return reply.choices[0].message['content']"
   ]
  },
  {
   "cell_type": "markdown",
   "id": "3b62298e-2181-4e73-bb40-77e20c655231",
   "metadata": {},
   "source": [
    "**MENTION CLEAR INSTRUCTIONS AND DATA INPUTS:**\n",
    "\n",
    "**\"The first technique is to use delimiters to clearly separate different sections of the input.\"**\n"
   ]
  },
  {
   "cell_type": "code",
   "execution_count": 16,
   "id": "87121316",
   "metadata": {
    "height": 318,
    "tags": []
   },
   "outputs": [
    {
     "name": "stdout",
     "output_type": "stream",
     "text": [
      "``Artificial intelligence and machine learning are revolutionizing industries through automation, improved decision-making, and predictive insights, promising significant advancements in healthcare, finance, and transportation for enhanced efficiency and innovation.``\n"
     ]
    }
   ],
   "source": [
    "text_block = f\"\"\"\n",
    "Artificial intelligence and machine learning are transforming \n",
    "various industries by enabling automation, improving decision-making, \n",
    "and offering predictive insights. As these technologies continue to \n",
    "evolve, they promise to drive significant advancements in fields such \n",
    "as healthcare, finance, and transportation, ultimately contributing \n",
    "to enhanced efficiency and innovation across the board.\n",
    "\"\"\"\n",
    "\n",
    "summary_request = f\"\"\"\n",
    "Please provide a concise summary of the following text, \n",
    "delimited by double tags, in a single sentence.\n",
    "``{text_block}``\n",
    "\"\"\"\n",
    "\n",
    "response_text = generate_response(summary_request)\n",
    "print(response_text)"
   ]
  },
  {
   "cell_type": "markdown",
   "id": "f2798f3d-7618-4ac5-a6b2-3c69c537903d",
   "metadata": {},
   "source": [
    "**The second technique is to request a generic format of the information.**\n",
    "\n",
    "- JSON, HTML"
   ]
  },
  {
   "cell_type": "code",
   "execution_count": 17,
   "id": "6b50bbbd",
   "metadata": {
    "height": 148,
    "tags": []
   },
   "outputs": [
    {
     "name": "stdout",
     "output_type": "stream",
     "text": [
      "[\n",
      "    {\n",
      "        \"book_id\": 1,\n",
      "        \"title\": \"The Midnight Library\",\n",
      "        \"author\": \"Matt Haig\",\n",
      "        \"genre\": \"Fiction\"\n",
      "    },\n",
      "    {\n",
      "        \"book_id\": 2,\n",
      "        \"title\": \"The Power of Habit\",\n",
      "        \"author\": \"Charles Duhigg\",\n",
      "        \"genre\": \"Self-help\"\n",
      "    },\n",
      "    {\n",
      "        \"book_id\": 3,\n",
      "        \"title\": \"The Silent Patient\",\n",
      "        \"author\": \"Alex Michaelides\",\n",
      "        \"genre\": \"Mystery\"\n",
      "    }\n",
      "]\n"
     ]
    }
   ],
   "source": [
    "request_text = f\"\"\"\n",
    "Invent three unique book titles with their respective authors and genres. \n",
    "Format the output in JSON with these keys: book_id, title, author, genre.\n",
    "\"\"\"\n",
    "\n",
    "generated_response = generate_response(request_text)\n",
    "print(generated_response)"
   ]
  },
  {
   "cell_type": "markdown",
   "id": "22a71c4f-b1f1-4d67-ad5a-e49fc1e3147d",
   "metadata": {},
   "source": [
    "**The third technique is to ask the model to verify if the conditions are met.**"
   ]
  },
  {
   "cell_type": "code",
   "execution_count": 18,
   "id": "f0ae612e",
   "metadata": {
    "height": 488,
    "tags": []
   },
   "outputs": [
    {
     "name": "stdout",
     "output_type": "stream",
     "text": [
      "Completion for Deep Learning Text:\n",
      "No steps provided.\n"
     ]
    }
   ],
   "source": [
    "deep_learning_text = f\"\"\"\n",
    "Deep learning is a subset of machine learning that uses neural networks with many layers (hence the term \"deep\"). \n",
    "These neural networks are capable of learning from vast amounts of data and can perform complex tasks such as image recognition, \n",
    "natural language processing, and game playing. To train a deep learning model, you need to prepare a large dataset, \n",
    "design a suitable neural network architecture, and then use that data to train the model by adjusting the network's weights \n",
    "through a process called backpropagation. Once trained, the model can make predictions or classify data based on new inputs.\n",
    "\"\"\"\n",
    "\n",
    "steps_request = f\"\"\"\n",
    "You will be provided with text delimited by double quotes. \n",
    "If it contains a sequence of instructions, \n",
    "re-write those instructions in the following format:\n",
    "\n",
    "Step 1 - ...\n",
    "Step 2 - …\n",
    "…\n",
    "Step N - …\n",
    "\n",
    "If the text does not contain a sequence of instructions, \n",
    "then simply write \"No steps provided.\"\n",
    "\n",
    "\\\"\\\"{deep_learning_text}\\\"\\\"\\\"\n",
    "\"\"\"\n",
    "\n",
    "steps_response = generate_response(steps_request)\n",
    "print(\"Completion for Deep Learning Text:\")\n",
    "print(steps_response)"
   ]
  },
  {
   "cell_type": "code",
   "execution_count": 19,
   "id": "76b6cc59",
   "metadata": {
    "height": 488,
    "tags": []
   },
   "outputs": [
    {
     "name": "stdout",
     "output_type": "stream",
     "text": [
      "Completion for Neural Network Text:\n",
      "No steps provided.\n"
     ]
    }
   ],
   "source": [
    "neural_network_text = f\"\"\"\n",
    "A neural network is a series of algorithms that attempt to recognize underlying relationships in a set of data through a process that mimics the way the human brain operates. \n",
    "It consists of layers of interconnected nodes or neurons, each layer processing input data and passing the results to the next layer.\n",
    "The network learns by adjusting the weights of these connections based on the error of its predictions compared to actual results.\n",
    "Training a neural network involves feeding it a large dataset and using optimization techniques to minimize the error.\n",
    "Once trained, the network can make predictions or classify new data based on learned patterns.\n",
    "\"\"\"\n",
    "\n",
    "instructions_prompt = f\"\"\"\n",
    "You will be provided with text delimited by double tags. \n",
    "If it contains a sequence of instructions, \n",
    "re-write those instructions in the following format:\n",
    "\n",
    "Step 1 - ...\n",
    "Step 2 - …\n",
    "…\n",
    "Step N - …\n",
    "\n",
    "If the text does not contain a sequence of instructions, \n",
    "then simply write \"No steps provided.\"\n",
    "\n",
    "```{neural_network_text}```\n",
    "\"\"\"\n",
    "\n",
    "steps_output = generate_response(instructions_prompt)\n",
    "print(\"Completion for Neural Network Text:\")\n",
    "print(steps_output)"
   ]
  },
  {
   "cell_type": "markdown",
   "id": "3c5866b8-d8c7-4e19-93db-401315f64954",
   "metadata": {},
   "source": [
    "**The fourth technique is to use few-shot prompts**"
   ]
  },
  {
   "cell_type": "code",
   "execution_count": 20,
   "id": "82ce1540",
   "metadata": {
    "height": 267,
    "tags": []
   },
   "outputs": [
    {
     "name": "stdout",
     "output_type": "stream",
     "text": [
      "<mother>: Adaptability is the ability to adjust and thrive in ever-changing circumstances. Like a tree bending with the wind or a chameleon changing its colors to blend in, being adaptable allows us to navigate through life's twists and turns with grace and resilience.\n"
     ]
    }
   ],
   "source": [
    "instruction = f\"\"\"\n",
    "Your job is to respond in a consistent tone.\n",
    "\n",
    "<son>: Explain the concept of perseverance.\n",
    "\n",
    "<mother>: Just as a mountain remains unmoved despite countless winds and storms, \n",
    "and a seed withstands the cold ground before it blossoms, true strength is found \n",
    "in the ability to endure and persist through challenges.\n",
    "\n",
    "<son>: Explain the concept of adaptability.\n",
    "\"\"\"\n",
    "\n",
    "answer = generate_response(instruction)\n",
    "print(answer)"
   ]
  },
  {
   "cell_type": "markdown",
   "id": "ece7a8ee-1a2d-415d-8c10-500ecff24b10",
   "metadata": {},
   "source": [
    "**ALLOW SOME TIME FOR THE MODEL TO GENERATE RESULTS**\n",
    "\n",
    "**It is important to mention the steps required to complete a task if required or the necessary output is still not obtained**"
   ]
  },
  {
   "cell_type": "code",
   "execution_count": 21,
   "id": "5e7d6860",
   "metadata": {
    "height": 437,
    "tags": []
   },
   "outputs": [
    {
     "name": "stdout",
     "output_type": "stream",
     "text": [
      "Completion for task 1:\n",
      "1 - Two friends, Alice and Bob, visit a famous museum in a bustling city, experience a fire drill, and plan to return despite the disruption.\n",
      "\n",
      "2 - Dos amigos, Alice y Bob, visitan un famoso museo en una ciudad bulliciosa, experimentan un simulacro de incendio y planean regresar a pesar de la interrupción.\n",
      "\n",
      "3 - Alice, Bob\n",
      "\n",
      "4 - \n",
      "```json\n",
      "{\n",
      "    \"spanish_summary\": \"Dos amigos, Alice y Bob, visitan un famoso museo en una ciudad bulliciosa, experimentan un simulacro de incendio y planean regresar a pesar de la interrupción.\",\n",
      "    \"num_names\": 2\n",
      "}\n",
      "```\n"
     ]
    }
   ],
   "source": [
    "story = f\"\"\"\n",
    "In a bustling city, two friends, Alice and Bob, embarked on a journey to visit a famous museum. \n",
    "While they marveled at the exhibits, an unexpected fire drill caused a brief panic. \n",
    "Alice and Bob safely exited the building, though their visit was cut short. \n",
    "Despite the disruption, they found the adventure exciting and planned to return soon.\n",
    "\"\"\"\n",
    "\n",
    "# example 1\n",
    "task_description = f\"\"\"\n",
    "Perform the following tasks:\n",
    "1 - Summarize the text below, enclosed by triple backticks, in one sentence.\n",
    "2 - Translate the summary into Spanish.\n",
    "3 - Identify and list each name mentioned in the Spanish summary.\n",
    "4 - Provide the results in a JSON object with the keys: spanish_summary, num_names.\n",
    "\n",
    "Please separate each response with a line break.\n",
    "\n",
    "Text:\n",
    "```{story}```\n",
    "\"\"\"\n",
    "\n",
    "result = generate_response(task_description)\n",
    "print(\"Completion for task 1:\")\n",
    "print(result)"
   ]
  },
  {
   "cell_type": "markdown",
   "id": "d0bb1dcf-95f5-4ee1-8c25-8b2abd5f0f0d",
   "metadata": {},
   "source": [
    "**A structured format result as outcome**"
   ]
  },
  {
   "cell_type": "code",
   "execution_count": 24,
   "id": "3e4222cc",
   "metadata": {
    "height": 505,
    "tags": []
   },
   "outputs": [
    {
     "name": "stdout",
     "output_type": "stream",
     "text": [
      "\n",
      "Completion for prompt 2:\n",
      "Summary: Sofia and Max explore a hidden library in the forest, finding a mysterious map leading to undiscovered secrets. \n",
      "Translation: Sofia et Max explorent une bibliothèque cachée dans la forêt, trouvant une carte mystérieuse menant à des secrets inconnus.\n",
      "Names: Sofia, Max\n",
      "Output JSON: {\"french_summary\": \"Sofia et Max explorent une bibliothèque cachée dans la forêt, trouvant une carte mystérieuse menant à des secrets inconnus.\", \"num_names\": 2}\n"
     ]
    }
   ],
   "source": [
    "storyline = f\"\"\"\n",
    "In a quaint village, Sofia and Max embarked on a thrilling adventure to discover an ancient, forgotten library hidden deep in the forest. \n",
    "While navigating through thick foliage and ancient trees, they stumbled upon a mysterious map that hinted at undiscovered secrets. \n",
    "Although their journey was challenging, their excitement grew with each step, and they returned with a sense of wonder and many stories to share.\n",
    "\"\"\"\n",
    "\n",
    "# Alternate prompt\n",
    "assignment_details = f\"\"\"\n",
    "Complete the following tasks:\n",
    "1 - Summarize the text provided below, enclosed by \n",
    "  <> into one sentence.\n",
    "2 - Translate the summary into French.\n",
    "3 - Identify and list all names mentioned in the French summary.\n",
    "4 - Deliver the results in a JSON object with the keys: french_summary and num_names.\n",
    "\n",
    "Please use the format below:\n",
    "Text: <text to summarize>\n",
    "Summary: <summary>\n",
    "Translation: <summary translation>\n",
    "Names: <list of names in summary>\n",
    "Output JSON: <json with summary and num_names>\n",
    "\n",
    "Text: <{storyline}>\n",
    "\"\"\"\n",
    "\n",
    "result = generate_response(assignment_details)\n",
    "print(\"\\nCompletion for prompt 2:\")\n",
    "print(result)"
   ]
  },
  {
   "cell_type": "markdown",
   "id": "fec80fdb-92db-48f6-8f1d-b03c26385bad",
   "metadata": {},
   "source": [
    "**Encourage the model to figure out the solution on its own before jumping to conclusions**"
   ]
  },
  {
   "cell_type": "code",
   "execution_count": 25,
   "id": "ff5cc985",
   "metadata": {
    "height": 369,
    "tags": []
   },
   "outputs": [
    {
     "name": "stdout",
     "output_type": "stream",
     "text": [
      "The student's solution is almost correct, but there is a mistake in the calculation of the total cost. The correct total cost should be:\n",
      "\n",
      "Total cost: 15b + 200s + 500 + 5b = 20b + 200s + 500\n",
      "\n",
      "Therefore, the student's solution is not entirely correct.\n"
     ]
    }
   ],
   "source": [
    "prompt = f\"\"\"\n",
    "Determine if the student's solution is correct or not.\n",
    "\n",
    "Question:\n",
    "I'm setting up a new library and need to calculate the total costs. \n",
    "- The cost for books is $15 per book\n",
    "- The cost for shelving is $200 per shelf\n",
    "- I have a yearly subscription for library management software that costs $500, plus an additional $5 per book\n",
    "What is the total cost for the first year as a function of the number of books and shelves?\n",
    "\n",
    "Student's Solution:\n",
    "Let b be the number of books and s be the number of shelves.\n",
    "Costs:\n",
    "1. Book cost: 15b\n",
    "2. Shelving cost: 200s\n",
    "3. Software cost: 500 + 5b\n",
    "Total cost: 15b + 200s + 500 + 5b = 30b + 200s + 500\n",
    "\"\"\"\n",
    "response = get_completion(prompt)\n",
    "print(response)"
   ]
  },
  {
   "cell_type": "code",
   "execution_count": 26,
   "id": "703f7003",
   "metadata": {
    "height": 1015,
    "tags": []
   },
   "outputs": [
    {
     "name": "stdout",
     "output_type": "stream",
     "text": [
      "Let's calculate the total cost for the first year of operations as a function of the number of square feet.\n",
      "\n",
      "Given:\n",
      "- Land costs $100 / square foot\n",
      "- Solar panels cost $250 / square foot\n",
      "- Maintenance contract: $100,000 per year + $10 / square foot\n",
      "\n",
      "Let x be the size of the installation in square feet.\n",
      "\n",
      "Total cost:\n",
      "1. Land cost: $100 * x = 100x\n",
      "2. Solar panel cost: $250 * x = 250x\n",
      "3. Maintenance cost: $100,000 + $10 * x = 100,000 + 10x\n",
      "\n",
      "Total cost for the first year of operations:\n",
      "100x (land) + 250x (solar panels) + 100,000 + 10x (maintenance)\n",
      "= 100x + 250x + 100,000 + 10x\n",
      "= 360x + 100,000\n",
      "\n",
      "So, the total cost for the first year of operations as a function of the number of square feet is 360x + 100,000.\n",
      "```\n",
      "Is the student's solution the same as actual solution just calculated:\n",
      "```\n",
      "Yes\n",
      "```\n",
      "Student grade:\n",
      "```\n",
      "Correct\n"
     ]
    }
   ],
   "source": [
    "prompt = f\"\"\"\n",
    "Your task is to determine if the student's solution \\\n",
    "is correct or not.\n",
    "To solve the problem do the following:\n",
    "- First, work out your own solution to the problem including the final total. \n",
    "- Then compare your solution to the student's solution \\ \n",
    "and evaluate if the student's solution is correct or not. \n",
    "Don't decide if the student's solution is correct until \n",
    "you have done the problem yourself.\n",
    "\n",
    "Use the following format:\n",
    "Question:\n",
    "```\n",
    "question here\n",
    "```\n",
    "Student's solution:\n",
    "```\n",
    "student's solution here\n",
    "```\n",
    "Actual solution:\n",
    "```\n",
    "steps to work out the solution and your solution here\n",
    "```\n",
    "Is the student's solution the same as actual solution \\\n",
    "just calculated:\n",
    "```\n",
    "yes or no\n",
    "```\n",
    "Student grade:\n",
    "```\n",
    "correct or incorrect\n",
    "```\n",
    "\n",
    "Question:\n",
    "```\n",
    "I'm building a solar power installation and I need help \\\n",
    "working out the financials. \n",
    "- Land costs 20 / square foot\n",
    "- I can buy solar panels for $690 / square foot\n",
    "- I negotiated a contract for maintenance that will cost \\\n",
    "me a flat $100k per year, and an additional $10 / square \\\n",
    "foot\n",
    "What is the total cost for the first year of operations \\\n",
    "as a function of the number of square feet.\n",
    "``` \n",
    "Student's solution:\n",
    "```\n",
    "Let x be the size of the installation in square feet.\n",
    "Costs:\n",
    "1. Land cost: 20x\n",
    "2. Solar panel cost: 690x\n",
    "3. Maintenance cost: 100,000 + 10x\n",
    "Total cost: 20x + 690x + 100,000 + 10x = 720x + 100,000\n",
    "```\n",
    "Actual solution:\n",
    "\"\"\"\n",
    "response = get_completion(prompt)\n",
    "print(response)"
   ]
  },
  {
   "cell_type": "markdown",
   "id": "8a207eab-a1b1-47a5-b913-fe38086123d0",
   "metadata": {},
   "source": [
    "**DRAWBACKS OF THE MODEL USED**"
   ]
  },
  {
   "cell_type": "code",
   "execution_count": 28,
   "id": "81c80919",
   "metadata": {
    "height": 114,
    "tags": []
   },
   "outputs": [
    {
     "name": "stdout",
     "output_type": "stream",
     "text": [
      "As an AI, I do not have personal opinions. However, Vellore Institute of Technology (VIT) Chennai Campus is known for its strong academic programs, modern facilities, and vibrant campus life. It is considered one of the top private engineering colleges in India and has a good reputation for producing skilled graduates. Students often praise the campus infrastructure, faculty quality, and industry connections for internships and placements. Overall, VIT Chennai Campus is well-regarded in the education community.\n"
     ]
    }
   ],
   "source": [
    "prompt = f\"\"\"\n",
    "What do you think about Vellore Institute of Technology Chennai Campus\n",
    "\"\"\"\n",
    "response = get_completion(prompt)\n",
    "print(response)"
   ]
  }
 ],
 "metadata": {
  "kernelspec": {
   "display_name": "Python 3 (ipykernel)",
   "language": "python",
   "name": "python3"
  },
  "language_info": {
   "codemirror_mode": {
    "name": "ipython",
    "version": 3
   },
   "file_extension": ".py",
   "mimetype": "text/x-python",
   "name": "python",
   "nbconvert_exporter": "python",
   "pygments_lexer": "ipython3",
   "version": "3.9.19"
  }
 },
 "nbformat": 4,
 "nbformat_minor": 5
}
