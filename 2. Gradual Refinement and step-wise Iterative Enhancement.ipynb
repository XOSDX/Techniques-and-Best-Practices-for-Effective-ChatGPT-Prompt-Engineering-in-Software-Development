{
 "cells": [
  {
   "cell_type": "markdown",
   "id": "b97ddf3b-d921-4169-9d82-b0ee95e9eccd",
   "metadata": {},
   "source": [
    "# Gradually refine and enhance the prompts \n",
    "\n",
    "**-> Continuously review and improve the prompts**"
   ]
  },
  {
   "cell_type": "code",
   "execution_count": 1,
   "id": "2800e646",
   "metadata": {
    "height": 166,
    "tags": []
   },
   "outputs": [],
   "source": [
    "import openai\n",
    "import os\n",
    "from dotenv import load_dotenv\n",
    "\n",
    "# Load environment variables from .env file\n",
    "load_dotenv()\n",
    "\n",
    "# Set OpenAI API key\n",
    "openai.api_key = os.getenv('OPENAI_API_KEY')"
   ]
  },
  {
   "cell_type": "code",
   "execution_count": 2,
   "id": "9fb6f2de",
   "metadata": {
    "height": 165,
    "tags": []
   },
   "outputs": [],
   "source": [
    "def fetch_response(prompt_text, model_type=\"gpt-3.5-turbo\"):\n",
    "    chat_messages = [{\"role\": \"user\", \"content\": prompt_text}]\n",
    "    chat_response = openai.ChatCompletion.create(\n",
    "        model=model_type,\n",
    "        messages=chat_messages,\n",
    "        temperature=0  # Controls randomness of the output\n",
    "    )\n",
    "    return chat_response.choices[0].message[\"content\"]"
   ]
  },
  {
   "cell_type": "markdown",
   "id": "71d1a1df-03c3-4f38-af6d-3962362f3dcd",
   "metadata": {},
   "source": [
    "## Generate a marketing product description from a product fact sheet"
   ]
  },
  {
   "cell_type": "code",
   "execution_count": 3,
   "id": "5be90e47",
   "metadata": {
    "height": 692,
    "tags": []
   },
   "outputs": [],
   "source": [
    "fact_furniture = \"\"\"\n",
    "OVERVIEW\n",
    "- Part of an elegant mid-century modern office furniture collection, \n",
    "  including filing cabinets, desks, bookcases, and meeting tables.\n",
    "- Offers a variety of shell colors and base finishes.\n",
    "- Available with either plastic back and front upholstery (SWC-200) \n",
    "  or full upholstery (SWC-220) in a selection of 12 fabrics and 8 leathers.\n",
    "- Base finishes include brushed steel, matte graphite, gloss ivory, \n",
    "  and polished brass.\n",
    "- Can be equipped with or without armrests.\n",
    "- Suitable for both home and business environments.\n",
    "- Certified for contract use.\n",
    "\n",
    "CONSTRUCTION\n",
    "- Features a 5-wheel nylon-coated aluminum base.\n",
    "- Pneumatic adjustment for easy seat height adjustment.\n",
    "\n",
    "DIMENSIONS\n",
    "- Width: 55 cm | 21.65”\n",
    "- Depth: 52 cm | 20.47”\n",
    "- Height: 82 cm | 32.28”\n",
    "- Seat Height: 46 cm | 18.11”\n",
    "- Seat Depth: 43 cm | 16.93”\n",
    "\n",
    "OPTIONS\n",
    "- Choice of soft or hard-floor casters.\n",
    "- Three seat foam densities available: medium (2.0 lb/ft³), firm (2.5 lb/ft³), or extra firm (3.0 lb/ft³).\n",
    "- Options for armless design or 6-position PU armrests.\n",
    "\n",
    "MATERIALS\n",
    "SHELL BASE GLIDER\n",
    "- Cast aluminum with modified nylon PA6/PA66 coating.\n",
    "- Shell thickness: 12 mm.\n",
    "SEAT\n",
    "- HD45 foam\n",
    "\n",
    "COUNTRY OF ORIGIN\n",
    "- Spain\n",
    "\"\"\""
   ]
  },
  {
   "cell_type": "markdown",
   "id": "e1361d6f-6022-4b7a-8107-b2e2ff5efd32",
   "metadata": {},
   "source": [
    "**If the text data entered is too long**"
   ]
  },
  {
   "cell_type": "code",
   "execution_count": 4,
   "id": "f6129532",
   "metadata": {
    "height": 267,
    "tags": []
   },
   "outputs": [
    {
     "name": "stdout",
     "output_type": "stream",
     "text": [
      "Introducing our sleek and modern office chair, designed for ultimate comfort and support. With a sturdy steel frame, adjustable height, and ergonomic design, this chair is perfect for long hours at your desk. The breathable mesh backrest and padded seat ensure maximum comfort. Upgrade your workspace today!\n"
     ]
    }
   ],
   "source": [
    "description_prompt = \"\"\"\n",
    "Your task is to assist a marketing team in crafting a \n",
    "product description for an e-commerce site based \n",
    "on the technical details provided.\n",
    "\n",
    "Generate a concise product description using no more than \n",
    "50 words based on the specifications outlined below.\n",
    "\n",
    "Technical details: <details>{fact_sheet_chair}</details>\n",
    "Use at most 100 words.\n",
    "\"\"\"\n",
    "\n",
    "description = fetch_response(description_prompt)\n",
    "print(description)"
   ]
  },
  {
   "cell_type": "code",
   "execution_count": 5,
   "id": "17f658d0",
   "metadata": {
    "height": 30,
    "tags": []
   },
   "outputs": [
    {
     "data": {
      "text/plain": [
       "47"
      ]
     },
     "execution_count": 5,
     "metadata": {},
     "output_type": "execute_result"
    }
   ],
   "source": [
    "len(description.split())"
   ]
  },
  {
   "cell_type": "markdown",
   "id": "a6de9c92-857c-4d1c-8fd1-192cf47c4763",
   "metadata": {},
   "source": [
    "**The above results obtained help us to understand that the model does not analyze the instructions accurately and sometimes results to outcomes other than the desired one**"
   ]
  },
  {
   "cell_type": "code",
   "execution_count": 6,
   "id": "954a8a06",
   "metadata": {
    "height": 301,
    "tags": []
   },
   "outputs": [
    {
     "name": "stdout",
     "output_type": "stream",
     "text": [
      "Introducing our premium chair crafted with high-quality leather upholstery and a sturdy steel frame. This sleek and modern design is perfect for any office or home setting. Upgrade your space with this durable and stylish piece.\n"
     ]
    }
   ],
   "source": [
    "description_prompt = \"\"\"\n",
    "Your task is to assist in creating a product description \n",
    "for a retail website based on the provided technical \n",
    "specifications.\n",
    "\n",
    "Instructions:\n",
    "1. Focus on highlighting the materials used in the product.\n",
    "2. Ensure the description is technical and informative for \n",
    "   furniture retailers.\n",
    "3. The description should be clear, concise, and under 50 words.\n",
    "\n",
    "Technical specifications: <details>{fact_sheet_chair}</details>\n",
    "\"\"\"\n",
    "\n",
    "description = fetch_response(description_prompt)\n",
    "print(description)"
   ]
  },
  {
   "cell_type": "code",
   "execution_count": 7,
   "id": "e9455d58",
   "metadata": {
    "height": 352,
    "tags": []
   },
   "outputs": [
    {
     "name": "stdout",
     "output_type": "stream",
     "text": [
      "Introducing our latest addition to the collection - a sleek and modern chair crafted with high-quality <materials>. Designed for both style and comfort, this chair features <specifications> for durability and support. Elevate your space with this versatile piece that combines functionality with a contemporary aesthetic.\n"
     ]
    }
   ],
   "source": [
    "description_prompt = \"\"\"\n",
    "Your task is to assist a marketing team in creating \n",
    "a description for a retail website focused on a \n",
    "product's technical specifications.\n",
    "\n",
    "Generate a product description based on the details \n",
    "provided in the technical specs enclosed within \n",
    "angle brackets.\n",
    "\n",
    "The description should be technical, highlighting the \n",
    "materials used, and be suitable for furniture retailers.\n",
    "\n",
    "Limit the description to 50 words.\n",
    "\n",
    "Technical specifications: <details>{fact_sheet_chair}</details>\n",
    "\"\"\"\n",
    "\n",
    "description = fetch_response(description_prompt)\n",
    "print(description)"
   ]
  },
  {
   "cell_type": "markdown",
   "id": "5be496d5-54c9-443b-8116-0b3d3d9dc560",
   "metadata": {},
   "source": [
    "## Issue 3. Description needs a table of dimensions\n",
    "- Ask it to extract information and organize it in a table."
   ]
  },
  {
   "cell_type": "code",
   "execution_count": 8,
   "id": "0384f1e4",
   "metadata": {
    "height": 471,
    "tags": []
   },
   "outputs": [
    {
     "name": "stdout",
     "output_type": "stream",
     "text": [
      "<article>\n",
      "    <h2>Introducing the Latest Tech Innovation: {product_specs}</h2>\n",
      "    \n",
      "    <p>Are you ready to elevate your tech game to the next level? Look no further than our newest product, {product_specs}. This cutting-edge device is packed with features that will revolutionize the way you interact with technology.</p>\n",
      "    \n",
      "    <p>One of the standout features of {product_specs} is its sleek design. With a modern and minimalist aesthetic, this device is sure to turn heads wherever you go. But it's not just about looks - {product_specs} is also incredibly powerful and efficient.</p>\n",
      "    \n",
      "    <p>Whether you're a professional looking for a reliable tool for work or a tech enthusiast who wants the latest and greatest gadgets, {product_specs} has something for everyone. From its lightning-fast processing speed to its long-lasting battery life, this device is designed to keep up with your busy lifestyle.</p>\n",
      "    \n",
      "    <p>But what truly sets {product_specs} apart is its innovative features. With advanced technology like {specific_feature} and {another_specific_feature}, this device offers a level of performance that is unmatched by any other product on the market.</p>\n",
      "    \n",
      "    <p>Don't miss out on the opportunity to experience the future of tech with {product_specs}. Get your hands on one today and see for yourself why this device is generating so much buzz in the tech community.</p>\n",
      "    \n",
      "    <h3>Model Numbers:</h3>\n",
      "    <ul>\n",
      "        <li>{model_number_1}</li>\n",
      "        <li>{model_number_2}</li>\n",
      "        <li>{model_number_3}</li>\n",
      "    </ul>\n",
      "    \n",
      "    <h3>Key Features:</h3>\n",
      "    <ul>\n",
      "        <li>Sleek and modern design</li>\n",
      "        <li>Powerful and efficient performance</li>\n",
      "        <li>Long-lasting battery life</li>\n",
      "        <li>Advanced technology like {specific_feature}</li>\n",
      "        <li>Lightning-fast processing speed</li>\n",
      "        <li>{another_specific_feature}</li>\n",
      "    </ul>\n",
      "</article>\n"
     ]
    }
   ],
   "source": [
    "content_prompt = \"\"\"\n",
    "Your task is to assist in creating a blog post for a tech \n",
    "website based on the provided product specifications.\n",
    "\n",
    "Compose a blog post that details the features and benefits \n",
    "of the product described in the specifications enclosed \n",
    "within curly braces.\n",
    "\n",
    "The blog post should be engaging and informative for tech \n",
    "enthusiasts, highlighting the unique aspects of the product.\n",
    "\n",
    "At the end of the post, include every 7-character Model \n",
    "Number found in the specifications.\n",
    "\n",
    "Additionally, append a section that lists the product's \n",
    "key features. The section should be formatted as a bullet \n",
    "list, with each feature on a new line.\n",
    "\n",
    "Format everything as HTML suitable for a blog. \n",
    "Place the blog post content in a <article> element.\n",
    "\n",
    "Product specifications: {product_specs}\n",
    "\"\"\"\n",
    "\n",
    "content = fetch_response(content_prompt)\n",
    "print(content)"
   ]
  },
  {
   "cell_type": "code",
   "execution_count": 9,
   "id": "73ff0052",
   "metadata": {
    "height": 30,
    "tags": []
   },
   "outputs": [],
   "source": [
    "from IPython.display import display, HTML"
   ]
  },
  {
   "cell_type": "code",
   "execution_count": 11,
   "id": "3465ffce",
   "metadata": {
    "height": 30,
    "tags": []
   },
   "outputs": [
    {
     "data": {
      "text/html": [
       "<article>\n",
       "    <h2>Introducing the Latest Tech Innovation: {product_specs}</h2>\n",
       "    \n",
       "    <p>Are you ready to elevate your tech game to the next level? Look no further than our newest product, {product_specs}. This cutting-edge device is packed with features that will revolutionize the way you interact with technology.</p>\n",
       "    \n",
       "    <p>One of the standout features of {product_specs} is its sleek design. With a modern and minimalist aesthetic, this device is sure to turn heads wherever you go. But it's not just about looks - {product_specs} is also incredibly powerful and efficient.</p>\n",
       "    \n",
       "    <p>Whether you're a professional looking for a reliable tool for work or a tech enthusiast who wants the latest and greatest gadgets, {product_specs} has something for everyone. From its lightning-fast processing speed to its long-lasting battery life, this device is designed to keep up with your busy lifestyle.</p>\n",
       "    \n",
       "    <p>But what truly sets {product_specs} apart is its innovative features. With advanced technology like {specific_feature} and {another_specific_feature}, this device offers a level of performance that is unmatched by any other product on the market.</p>\n",
       "    \n",
       "    <p>Don't miss out on the opportunity to experience the future of tech with {product_specs}. Get your hands on one today and see for yourself why this device is generating so much buzz in the tech community.</p>\n",
       "    \n",
       "    <h3>Model Numbers:</h3>\n",
       "    <ul>\n",
       "        <li>{model_number_1}</li>\n",
       "        <li>{model_number_2}</li>\n",
       "        <li>{model_number_3}</li>\n",
       "    </ul>\n",
       "    \n",
       "    <h3>Key Features:</h3>\n",
       "    <ul>\n",
       "        <li>Sleek and modern design</li>\n",
       "        <li>Powerful and efficient performance</li>\n",
       "        <li>Long-lasting battery life</li>\n",
       "        <li>Advanced technology like {specific_feature}</li>\n",
       "        <li>Lightning-fast processing speed</li>\n",
       "        <li>{another_specific_feature}</li>\n",
       "    </ul>\n",
       "</article>"
      ],
      "text/plain": [
       "<IPython.core.display.HTML object>"
      ]
     },
     "metadata": {},
     "output_type": "display_data"
    }
   ],
   "source": [
    "display(HTML(content))"
   ]
  }
 ],
 "metadata": {
  "kernelspec": {
   "display_name": "Python 3 (ipykernel)",
   "language": "python",
   "name": "python3"
  },
  "language_info": {
   "codemirror_mode": {
    "name": "ipython",
    "version": 3
   },
   "file_extension": ".py",
   "mimetype": "text/x-python",
   "name": "python",
   "nbconvert_exporter": "python",
   "pygments_lexer": "ipython3",
   "version": "3.9.19"
  }
 },
 "nbformat": 4,
 "nbformat_minor": 5
}
