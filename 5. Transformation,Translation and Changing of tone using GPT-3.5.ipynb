{
 "cells": [
  {
   "cell_type": "markdown",
   "id": "e3993515-9710-4ac4-89e9-b35ebb81e920",
   "metadata": {
    "id": "rhqRhkElpJ0z"
   },
   "source": [
    "# Transforming\n",
    "\n",
    "In this notebook, we will explore how to use Large Language Models for text transformation tasks such as language translation, spelling and grammar checking, tone adjustment, and format conversion.\n",
    "\n",
    "## Setup"
   ]
  },
  {
   "cell_type": "code",
   "execution_count": 1,
   "id": "41df0348",
   "metadata": {
    "height": 148,
    "tags": []
   },
   "outputs": [],
   "source": [
    "import openai\n",
    "import os\n",
    "\n",
    "from dotenv import load_dotenv, find_dotenv\n",
    "_ = load_dotenv(find_dotenv()) \n",
    "\n",
    "openai.api_key  = os.getenv('OPENAI_API_KEY')"
   ]
  },
  {
   "cell_type": "code",
   "execution_count": 14,
   "id": "6a85ee0f",
   "metadata": {
    "height": 165,
    "tags": []
   },
   "outputs": [],
   "source": [
    "def get_response(prompt,model_name='gpt-3.5-turbo'):\n",
    "    reply=openai.ChatCompletion.create(\n",
    "    model=model_name,\n",
    "    messages=[{\"role\":\"user\",\"content\":prompt}],\n",
    "    temperature=0)\n",
    "    return reply.choices[0].message['content']"
   ]
  },
  {
   "cell_type": "markdown",
   "id": "1d8f0bd8-628e-4c36-bcd0-2110162f25fc",
   "metadata": {
    "id": "zdxC4c6pwqA5"
   },
   "source": [
    "## Translation\n",
    "\n",
    "From english to any other desired languages"
   ]
  },
  {
   "cell_type": "code",
   "execution_count": 16,
   "id": "7300ed9b",
   "metadata": {
    "height": 115,
    "tags": []
   },
   "outputs": [
    {
     "name": "stdout",
     "output_type": "stream",
     "text": [
      "This is Bengali language.\n"
     ]
    }
   ],
   "source": [
    "prompt = f\"\"\"\n",
    "Tell me which language this is: \n",
    "```আমি আজকে বই পড়ছি।```\n",
    "\"\"\"\n",
    "response = get_response(prompt)\n",
    "print(response)"
   ]
  },
  {
   "cell_type": "code",
   "execution_count": 17,
   "id": "791e789b",
   "metadata": {
    "height": 148,
    "tags": []
   },
   "outputs": [
    {
     "name": "stdout",
     "output_type": "stream",
     "text": [
      "Hindi: मुझे अपने दोस्तों के साथ फुटबॉल खेलना है।\n",
      "Bhojpuri: हमरे साथ फुटबॉल खेलना चाहत बा।\n",
      "English: I want to play football with my friends.\n"
     ]
    }
   ],
   "source": [
    "prompt = f\"\"\"\n",
    "Translate the following  text to Hindi and Bhojpuri\n",
    "and English pirate: \\\n",
    "```I want to play football with my friends```\n",
    "\"\"\"\n",
    "response = get_response(prompt)\n",
    "print(response)"
   ]
  },
  {
   "cell_type": "code",
   "execution_count": 19,
   "id": "fcf7eb63",
   "metadata": {
    "height": 148,
    "tags": []
   },
   "outputs": [
    {
     "name": "stdout",
     "output_type": "stream",
     "text": [
      "Formal: क्या आपको कॉफ़ी पीनी है?\n",
      "Informal: क्या तुम्हें कॉफ़ी पीनी है?\n"
     ]
    }
   ],
   "source": [
    "prompt = f\"\"\"\n",
    "Translate the following text to Hindi in both the \n",
    "formal and informal forms: \n",
    "'Would you like to have coffee?'\n",
    "\"\"\"\n",
    "response = get_response(prompt)\n",
    "print(response)"
   ]
  },
  {
   "cell_type": "markdown",
   "id": "8edb56d2-a32a-470f-9f40-4fc5b1ea0849",
   "metadata": {
    "id": "-hN2bczQrRC1"
   },
   "source": [
    "### Universal Translator\n",
    "Imagine you are in charge of IT at a large multinational e-commerce company. Users are messaging you with IT issues in all their native languages. Your staff is from all over the world and speaks only their native languages. You need a universal translator!"
   ]
  },
  {
   "cell_type": "code",
   "execution_count": 20,
   "id": "68a40bf0",
   "metadata": {
    "height": 247,
    "tags": []
   },
   "outputs": [],
   "source": [
    "languages = [\n",
    "  \"La performance du système est plus lente que d'habitude.\",\n",
    "  \"Mi monitor tiene píxeles que no se iluminan.\",\n",
    "  \"Il mio mouse non funziona\",\n",
    "  \"Mój klawisz Ctrl jest zepsuty\",\n",
    "  \"我的屏幕在闪烁\",\n",
    "  \"Mein Bildschirm flackert\",\n",
    "  \"Meu monitor está piscando\",\n",
    "  \"Мой монитор мигает\",\n",
    "  \"Mijn scherm flikkert\",\n",
    "  \"モニターが点滅しています\",\n",
    "  \"나의 모니터가 깜빡거리고 있어요\",\n",
    "  \"Mijn muis werkt niet\",\n",
    "  \"Meu mouse não está funcionando\",\n",
    "  \"Mon clavier ne fonctionne pas\",\n",
    "  \"我的键盘有一个坏的控制键\",\n",
    "  \"Min skærm blinker\",\n",
    "  \"Min skärm blinkar\",\n",
    "  \"Min skärm flimrar\",\n",
    "  \"A képernyőm villog\",\n",
    "  \"Moj monitor trepće\",\n",
    "  \"Η οθόνη μου αναβοσβήνει\",\n",
    "  \"หน้าจอของฉันกะพริบ\",\n",
    "  \"मेरा स्क्रीन चमक रहा है\",\n",
    "  \"Skrin saya berkelip\",\n",
    "  \"หน้าจอของฉันกะพริบ\",\n",
    "  \"Màn hình của tôi nhấp nháy\",\n",
    "  \"Monitorul meu pâlpâie\",\n",
    "  \"Мій монітор мерехтить\",\n",
    "  \"Az én képernyőm villog\",\n",
    "  \"Tá mo scáileán ag preabadh\",\n",
    "  \"Il mio schermo sta lampeggiando\",\n",
    "  \"Мојот монитор трепка\",\n",
    "  \"Mijn scherm knippert\",\n",
    "  \"Mój ekran miga\",\n",
    "  \"Mein Bildschirm blinkt\",\n",
    "  \"Экранам мигает\",\n",
    "  \"Mon écran clignote\",\n",
    "]"
   ]
  },
  {
   "cell_type": "code",
   "execution_count": 22,
   "id": "552d0db9",
   "metadata": {
    "height": 216,
    "tags": []
   },
   "outputs": [
    {
     "name": "stdout",
     "output_type": "stream",
     "text": [
      "Original message (French): La performance du système est plus lente que d'habitude.\n",
      "English: \"The system performance is slower than usual.\"\n",
      "\n",
      "Korean: \"시스템 성능이 평소보다 느립니다.\" \n",
      "\n",
      "Original message (This is French.): Mi monitor tiene píxeles que no se iluminan.\n",
      "English: \"My monitor has pixels that do not light up.\"\n",
      "Korean: \"내 모니터에는 불이 켜지지 않는 픽셀이 있습니다.\" \n",
      "\n",
      "Original message (French): Il mio mouse non funziona\n",
      "English: My mouse is not working\n",
      "Korean: 내 마우스가 작동하지 않습니다 \n",
      "\n",
      "Original message (French): Mój klawisz Ctrl jest zepsuty\n",
      "English: My Ctrl key is broken\n",
      "Korean: 내 Ctrl 키가 고장 났어요 \n",
      "\n",
      "Original message (French): 我的屏幕在闪烁\n",
      "English: My screen is flickering\n",
      "Korean: 내 화면이 깜박거립니다 \n",
      "\n",
      "Original message (French): Mein Bildschirm flackert\n",
      "English: My screen is flickering\n",
      "Korean: 나의 화면이 깜박거립니다 \n",
      "\n",
      "Original message (French): Meu monitor está piscando\n",
      "English: My monitor is flickering\n",
      "Korean: 내 모니터가 깜박거립니다 \n",
      "\n",
      "Original message (This is French.): Мой монитор мигает\n",
      "English: My monitor is flickering\n",
      "Korean: 내 모니터가 깜박거립니다 \n",
      "\n",
      "Original message (French): Mijn scherm flikkert\n",
      "English: My screen is flickering\n",
      "Korean: 내 화면이 깜박거립니다 \n",
      "\n",
      "Original message (This is French.): モニターが点滅しています\n",
      "English: \"The monitor is flashing\"\n",
      "Korean: \"모니터가 깜박거리고 있습니다\" \n",
      "\n",
      "Original message (French): 나의 모니터가 깜빡거리고 있어요\n",
      "English: \"My monitor is flickering\"\n",
      "Korean: \"내 모니터가 깜빡거리고 있어요\" \n",
      "\n",
      "Original message (French): Mijn muis werkt niet\n",
      "English: My mouse is not working\n",
      "Korean: 내 마우스가 작동하지 않습니다 \n",
      "\n",
      "Original message (French): Meu mouse não está funcionando\n",
      "English: My mouse is not working\n",
      "Korean: 내 마우스가 작동하지 않습니다 \n",
      "\n",
      "Original message (French): Mon clavier ne fonctionne pas\n",
      "English: My keyboard is not working\n",
      "Korean: 내 키보드가 작동하지 않습니다 \n",
      "\n",
      "Original message (French): 我的键盘有一个坏的控制键\n",
      "English: \"My keyboard has a broken control key.\"\n",
      "\n",
      "Korean: \"내 키보드에는 고장난 컨트롤 키가 있어요.\" \n",
      "\n",
      "Original message (French): Min skærm blinker\n",
      "English: \"My screen is blinking\"\n",
      "Korean: \"내 화면이 깜박거립니다\" \n",
      "\n",
      "Original message (French): Min skärm blinkar\n",
      "English: My screen is blinking\n",
      "Korean: 제 화면이 깜박거립니다 \n",
      "\n",
      "Original message (French): Min skärm flimrar\n",
      "English: My screen is flickering\n",
      "Korean: 제 화면이 깜박거립니다 \n",
      "\n",
      "Original message (French): A képernyőm villog\n",
      "English: My screen is flickering\n",
      "Korean: 화면이 깜박거립니다 \n",
      "\n",
      "Original message (French): Moj monitor trepće\n",
      "English: My monitor is flickering\n",
      "Korean: 내 모니터가 깜박거립니다 \n",
      "\n",
      "Original message (French): Η οθόνη μου αναβοσβήνει\n",
      "English: \"My screen is flickering.\"\n",
      "\n",
      "Korean: \"내 화면이 깜박거립니다.\" \n",
      "\n",
      "Original message (French): หน้าจอของฉันกะพริบ\n",
      "English: \"My screen is flickering.\"\n",
      "Korean: \"내 화면이 깜박거립니다.\" \n",
      "\n",
      "Original message (This is French.): मेरा स्क्रीन चमक रहा है\n",
      "English: My screen is shining\n",
      "Korean: 내 화면이 반짝이고 있어요 \n",
      "\n",
      "Original message (French): Skrin saya berkelip\n",
      "English: \"My screen is flickering\"\n",
      "Korean: \"내 화면이 깜박거립니다\" \n",
      "\n",
      "Original message (French): หน้าจอของฉันกะพริบ\n",
      "My screen is flickering\n",
      "\n",
      "내 화면이 깜박입니다. \n",
      "\n",
      "Original message (French): Màn hình của tôi nhấp nháy\n",
      "My screen is flickering\n",
      "\n",
      "내 화면이 깜박거립니다. \n",
      "\n",
      "Original message (French): Monitorul meu pâlpâie\n",
      "English: \"My monitor flickers\"\n",
      "Korean: \"내 모니터가 깜박거립니다\" \n",
      "\n",
      "Original message (French): Мій монітор мерехтить\n",
      "English: My monitor is flickering\n",
      "Korean: 내 모니터가 깜박거립니다 \n",
      "\n",
      "Original message (French): Az én képernyőm villog\n",
      "English: My screen is flickering\n",
      "Korean: 내 화면이 깜박거립니다 \n",
      "\n",
      "Original message (French): Tá mo scáileán ag preabadh\n",
      "English: \"My screen is flickering\"\n",
      "\n",
      "Korean: \"내 화면이 깜박거리고 있어\" \n",
      "\n",
      "Original message (This is French.): Il mio schermo sta lampeggiando\n",
      "English: My screen is flickering\n",
      "Korean: 내 화면이 깜박거리고 있어요 \n",
      "\n",
      "Original message (This is French.): Мојот монитор трепка\n",
      "English: My monitor is flickering\n",
      "Korean: 내 모니터가 깜박거립니다 \n",
      "\n",
      "Original message (French): Mijn scherm knippert\n",
      "English: My screen is flickering\n",
      "Korean: 내 화면이 깜박거립니다 \n",
      "\n",
      "Original message (French): Mój ekran miga\n",
      "English: My screen is flickering\n",
      "Korean: 내 화면이 깜박거립니다 \n",
      "\n",
      "Original message (This is French.): Mein Bildschirm blinkt\n",
      "English: My screen is blinking\n",
      "Korean: 나의 화면이 깜박거립니다 \n",
      "\n",
      "Original message (French): Экранам мигает\n",
      "English: \"The screens are flickering\"\n",
      "Korean: \"화면이 깜박거립니다\" \n",
      "\n",
      "Original message (French): Mon écran clignote\n",
      "English: \"My screen is flickering\"\n",
      "Korean: \"내 화면이 깜박거립니다\" \n",
      "\n"
     ]
    }
   ],
   "source": [
    "for x in languages:\n",
    "    prompt = f\"Tell me what language this is: ```{issue}```\"\n",
    "    lang = get_response(prompt)\n",
    "    print(f\"Original message ({lang}): {x}\")\n",
    "\n",
    "    prompt = f\"\"\"\n",
    "    Translate the following  text to English \\\n",
    "    and Korean: ```{x}```\n",
    "    \"\"\"\n",
    "    response = get_response(prompt)\n",
    "    print(response, \"\\n\")"
   ]
  },
  {
   "cell_type": "markdown",
   "id": "1d9e54ca-f93a-43c8-a295-bff7a89f77f5",
   "metadata": {
    "id": "JH3-0vdjsILh"
   },
   "source": [
    "## Transformation of the tone\n",
    "\n",
    " LLMs can help in producing different tones of a respective language and it's meaning.\n"
   ]
  },
  {
   "cell_type": "code",
   "execution_count": 24,
   "id": "2deac328",
   "metadata": {
    "height": 131,
    "tags": []
   },
   "outputs": [
    {
     "name": "stdout",
     "output_type": "stream",
     "text": [
      "Sorry, I can't make it tonight. Have fun though!\n"
     ]
    }
   ],
   "source": [
    "prompt = \"\"\"Yo, my homie just hit me up, and we’re gonna bounce to the \n",
    "crib, chillax with some munchies, and vibe to some sick beats. \n",
    "You down to roll with us?\n",
    "\"\"\"\n",
    "response = get_response(prompt)\n",
    "print(response)"
   ]
  },
  {
   "cell_type": "markdown",
   "id": "a2c7eb73-6b82-442d-b4f8-251c308e89d5",
   "metadata": {
    "id": "p3e9sZh5tWIa"
   },
   "source": [
    "# Format Conversion\n",
    "\n",
    "The user entering the prompt must mention the input and output formats as per his/her need.\n",
    "It can give results in different patterns."
   ]
  },
  {
   "cell_type": "code",
   "execution_count": 26,
   "id": "5a37f0a0",
   "metadata": {
    "height": 233,
    "tags": []
   },
   "outputs": [
    {
     "name": "stdout",
     "output_type": "stream",
     "text": [
      "| Name   | Email            |\n",
      "|--------|------------------|\n",
      "| Alice  | alice@example.com |\n",
      "| Charlie| charlie@example.com|\n",
      "| David  | david@example.com |\n"
     ]
    }
   ],
   "source": [
    "data = { \n",
    "    \"restaurant_employees\": [\n",
    "        {\"name\": \"Alice\", \"email\": \"alice@example.com\"},\n",
    "        {\"name\": \"Charlie\", \"email\": \"charlie@example.com\"},\n",
    "        {\"name\": \"David\", \"email\": \"david@example.com\"}\n",
    "    ]\n",
    "}\n",
    "\n",
    "prompt = f\"\"\"\n",
    "Translate the following Python dictionary from given format to a suitable\n",
    "table representation '''{data}'''\n",
    "\"\"\"\n",
    "\n",
    "response = get_response(prompt)\n",
    "print(response)"
   ]
  },
  {
   "cell_type": "code",
   "execution_count": 27,
   "id": "481a46b7",
   "metadata": {
    "height": 63,
    "tags": []
   },
   "outputs": [
    {
     "data": {
      "text/html": [
       "| Name   | Email            |\n",
       "|--------|------------------|\n",
       "| Alice  | alice@example.com |\n",
       "| Charlie| charlie@example.com|\n",
       "| David  | david@example.com |"
      ],
      "text/plain": [
       "<IPython.core.display.HTML object>"
      ]
     },
     "metadata": {},
     "output_type": "display_data"
    }
   ],
   "source": [
    "from IPython.display import display, Markdown, Latex, HTML, JSON\n",
    "display(HTML(response))"
   ]
  },
  {
   "cell_type": "markdown",
   "id": "2df1824c-534b-45cb-b0c1-3000bba5adbe",
   "metadata": {
    "id": "qLTz16qEzyT_"
   },
   "source": [
    "## Spellcheck/Grammar check.\n",
    "\n",
    "Here are some examples of common grammar and spelling problems and the LLM's response. \n",
    "\n",
    "To signal to the LLM that you want it to proofread your text, you instruct the model to 'proofread' or 'proofread and correct'."
   ]
  },
  {
   "cell_type": "code",
   "execution_count": 32,
   "id": "52d77283",
   "metadata": {
    "height": 318,
    "tags": []
   },
   "outputs": [
    {
     "name": "stdout",
     "output_type": "stream",
     "text": [
      "She doesn't like to eat apples in the morning. They're going to the park to play soccer in the evening. I saw him go to the store yesterday. The cat chased its tail around the house all night. He cannot find his book because he left it at school. These are my favorite shoes to wear when I go running. They were going to the beach but the weather was too cold. I need to finish my homework before I can watch TV. The dogs were barking loudly all night long. We go to the movies every weekend to see the latest film.\n",
      "\n",
      "\n"
     ]
    }
   ],
   "source": [
    "text = [ \n",
    "\"She don't likes to eat apple's in the morning.\"\n",
    "\"Their going to the park to play socer in the evening.\"\n",
    "\"I seen him go to the store yesturday.\"\n",
    "\"The cat chased it's tail around the house all night.\"\n",
    "\"He can not find his book because he leave it at school.\"\n",
    "\"This are my favorit shoes to wear when I go running.\"\n",
    "\"They was going to the beach but the weather was two cold.\"\n",
    "\"I need to finish my homewerk before I can watch TV.\"\n",
    "\"The dog's were barking loudly all nite long.\"\n",
    "\"We goes to the movies every weekend to see the latest flim.\"\n",
    "]\n",
    "for t in text:\n",
    "    prompt = f\"\"\"Rewrite the words by arranging them logically\n",
    "    and also making sure each word has correct spelling.\n",
    "    ```{t}```\"\"\"\n",
    "    response = get_response(prompt)\n",
    "    print(response)"
   ]
  }
 ],
 "metadata": {
  "kernelspec": {
   "display_name": "Python 3 (ipykernel)",
   "language": "python",
   "name": "python3"
  },
  "language_info": {
   "codemirror_mode": {
    "name": "ipython",
    "version": 3
   },
   "file_extension": ".py",
   "mimetype": "text/x-python",
   "name": "python",
   "nbconvert_exporter": "python",
   "pygments_lexer": "ipython3",
   "version": "3.9.19"
  }
 },
 "nbformat": 4,
 "nbformat_minor": 5
}
